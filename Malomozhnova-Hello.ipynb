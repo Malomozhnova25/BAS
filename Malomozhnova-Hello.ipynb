{
 "cells": [
  {
   "cell_type": "markdown",
   "id": "e388ae8b-8209-4f48-b9d5-b318be69153d",
   "metadata": {},
   "source": [
    "# Первая программа на суперкомпьютере"
   ]
  },
  {
   "cell_type": "code",
   "execution_count": 2,
   "id": "e03193c0-60cc-412b-b14a-53877bba5ec8",
   "metadata": {},
   "outputs": [
    {
     "name": "stdout",
     "output_type": "stream",
     "text": [
      "Hello world!\n",
      "Выполнила Маломожнова В.М.\n"
     ]
    }
   ],
   "source": [
    "print (\"Hello world!\")\n",
    "print (\"Выполнила Маломожнова В.М.\")"
   ]
  },
  {
   "cell_type": "code",
   "execution_count": null,
   "id": "acbb2dde-5404-4965-85cd-6adde177ca78",
   "metadata": {},
   "outputs": [],
   "source": []
  }
 ],
 "metadata": {
  "kernelspec": {
   "display_name": "Python 3 (ipykernel)",
   "language": "python",
   "name": "python3"
  },
  "language_info": {
   "codemirror_mode": {
    "name": "ipython",
    "version": 3
   },
   "file_extension": ".py",
   "mimetype": "text/x-python",
   "name": "python",
   "nbconvert_exporter": "python",
   "pygments_lexer": "ipython3",
   "version": "3.8.12"
  }
 },
 "nbformat": 4,
 "nbformat_minor": 5
}
